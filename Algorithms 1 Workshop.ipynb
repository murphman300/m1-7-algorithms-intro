{
 "cells": [
  {
   "cell_type": "markdown",
   "metadata": {
    "colab_type": "text",
    "id": "c8zuAcfM5lDz"
   },
   "source": [
    "# 1. Big-O Theory exercises\n",
    "\n",
    "1. What is the big-O of the following algorithm? Assume `A` is an array of numbers\n",
    "\n",
    "```python\n",
    "def number_in_array(A, num):\n",
    "  for i in range(len(A)):\n",
    "    if A[i] == num:\n",
    "      return True\n",
    "  return False\n",
    "```\n",
    "\n",
    "2. What is the big-O of the following algorithm? Assume `A` and `B` are arrays of numbers of the **same length n**\n",
    "\n",
    "```python\n",
    "def number_in_two_arrays(A, B, num):\n",
    "  arr_len = len(A)\n",
    "  for i in range(arr_len):\n",
    "    if A[i] == num:\n",
    "      return True\n",
    "  for i in range(arr_len):\n",
    "    if B[i] == num:\n",
    "      return True\n",
    "  return False\n",
    "```\n",
    "\n",
    "3. What would be the big-O above if `A` was length `n` and `B` was length `m`?\n",
    "\n",
    "4. What is the big-O of the following algorithm? Assume `A` and `B` are arrays of numbers of the **same length n**\n",
    "\n",
    "```python\n",
    "def number_in_two_arrays(A, B, num):\n",
    "  arr_len = len(A)\n",
    "  for i in range(arr_len):\n",
    "    for j in range(arr_len):\n",
    "    if A[i] == B[j]:\n",
    "      return True\n",
    "  return False\n",
    "```"
   ]
  },
  {
   "cell_type": "code",
   "execution_count": 3,
   "metadata": {},
   "outputs": [
    {
     "data": {
      "text/plain": [
       "'1: O(N)\\n2: where for i an integer:\\n    O(i) where A[i] = num is true, \\n    or O(N + j) where B[j] = num is true\\n    otherwise O(2N)\\n2: where for i an integer:\\n    O(i) where A[i] = num is true, \\n    or O(N + j) where B[j] = num is true\\n    otherwise O(N + M)\\n    '"
      ]
     },
     "execution_count": 3,
     "metadata": {},
     "output_type": "execute_result"
    }
   ],
   "source": [
    "\"\"\"\n",
    "1: O(N)\n",
    "2: where for i an integer:\n",
    "    O(i) where A[i] = num is true, \n",
    "    or O(N + j) where B[j] = num is true\n",
    "    otherwise O(2N)\n",
    "3: where for i an integer:\n",
    "    O(i) where A[i] = num is true, \n",
    "    or O(N + j) where B[j] = num is true\n",
    "    otherwise O(N + M)\n",
    "3: where for i an integer:\n",
    "    O(i) where A[i] = num is true, \n",
    "    or O(N + j) where B[j] = num is true\n",
    "    otherwise O(N + M)\n",
    "4: where for i and j are positive integers:\n",
    "    O(i * j) where A[i] = B[j] is true, \n",
    "    otherwise O(n^2)\n",
    "    \"\"\""
   ]
  },
  {
   "cell_type": "markdown",
   "metadata": {
    "colab_type": "text",
    "id": "4lz1Ha-E_CQ1"
   },
   "source": [
    "# Reverse Sort\n",
    "\n",
    "Rewrite `selection_sort` so that it sorts in **reverse order** instead (biggest element first, smallest last)"
   ]
  },
  {
   "cell_type": "markdown",
   "metadata": {
    "colab": {},
    "colab_type": "code",
    "id": "kLzOQr8tAAIG"
   },
   "source": [
    "# Two sum (Brute Force)\n",
    "\n",
    "Two sum. Given an array and a number N, return True if there are numbers A, B in the array such that A + B = N. Otherwise, return False.\n",
    "\n",
    "```\n",
    "two_sum([1, 2, 3, 4], 5) ⇒ True\n",
    "two_sum([3, 4, 6], 6) ⇒ False\n",
    "```\n",
    "\n",
    "Write a brute force $O(n^2)$ algorithm"
   ]
  },
  {
   "cell_type": "markdown",
   "metadata": {},
   "source": [
    "# Two Sum (Fast Version)\n",
    "\n",
    "Write a linear time version $O(N)$ for the two sum problem"
   ]
  },
  {
   "cell_type": "markdown",
   "metadata": {},
   "source": [
    "# Two Sum (itertools version)\n",
    "\n",
    "Use `itertools.combinations` to write a $O(N)$ algorithm for two sum"
   ]
  },
  {
   "cell_type": "markdown",
   "metadata": {},
   "source": [
    "# Linked Lists\n",
    "\n",
    "Unlike a regular array, a [Linked List](https://en.wikipedia.org/wiki/Linked_list) is a container where inserting a new element somewhere in the middle is $O(1)$. \n",
    "\n",
    "For a regular array inserting an element in the middle is $O(N)$, because we need to \"shift back\" all the elements after it. In practice, we might also have to allocate new memory to fit in the element.\n",
    "\n",
    "A linked list is a series of elements, `Node(value, next)` which work as follows:\n",
    "\n",
    "- The `value` field is the element value -- python object at that place in the list (like elements in a python `list`)\n",
    "\n",
    "- The `next` field points to the next element in the linked list. In python holding a reference to the element does this (the same way a python list holds references to objects)\n",
    "\n",
    "### Exercise\n",
    "\n",
    "Implement the `Node` Class as described above then initialize a list with 5 elements `(3 -> 'cat' -> 'dog' -> 55 -> 56)`"
   ]
  },
  {
   "cell_type": "markdown",
   "metadata": {},
   "source": [
    "# Reversing a linked list\n",
    "\n",
    "Write a $O(N)$ function `reverse_ll` that reverses all the pointers in a linked list:\n",
    "\n",
    "```\n",
    "(a -> b -> c) ⇒ (c -> b -> a)\n",
    "```\n",
    "\n",
    "Note: You don't have to reverse their order in the python tuple/list if that's where you're holding them. Just reverse their `Node` pointers to each other"
   ]
  },
  {
   "cell_type": "code",
   "execution_count": null,
   "metadata": {},
   "outputs": [],
   "source": []
  }
 ],
 "metadata": {
  "colab": {
   "authorship_tag": "ABX9TyOATH9BoLFARMvG0o+Vj9NT",
   "collapsed_sections": [],
   "name": "Algorithms 1 Workshop.ipynb",
   "provenance": []
  },
  "kernelspec": {
   "display_name": "Python 3",
   "language": "python",
   "name": "python3"
  },
  "language_info": {
   "codemirror_mode": {
    "name": "ipython",
    "version": 3
   },
   "file_extension": ".py",
   "mimetype": "text/x-python",
   "name": "python",
   "nbconvert_exporter": "python",
   "pygments_lexer": "ipython3",
   "version": "3.8.5"
  }
 },
 "nbformat": 4,
 "nbformat_minor": 1
}
