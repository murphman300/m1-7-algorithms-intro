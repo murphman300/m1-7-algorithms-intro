{
 "cells": [
  {
   "cell_type": "markdown",
   "metadata": {
    "colab_type": "text",
    "id": "c8zuAcfM5lDz"
   },
   "source": [
    "# 1. Big-O Theory exercises\n",
    "\n",
    "1. What is the big-O of the following algorithm? Assume `A` is an array of numbers\n",
    "\n",
    "```python\n",
    "def number_in_array(A, num):\n",
    "  for i in range(len(A)):\n",
    "    if A[i] == num:\n",
    "      return True\n",
    "  return False\n",
    "```\n",
    "\n",
    "2. What is the big-O of the following algorithm? Assume `A` and `B` are arrays of numbers of the **same length n**\n",
    "\n",
    "```python\n",
    "def number_in_two_arrays(A, B, num):\n",
    "  arr_len = len(A)\n",
    "  for i in range(arr_len):\n",
    "    if A[i] == num:\n",
    "      return True\n",
    "  for i in range(arr_len):\n",
    "    if B[i] == num:\n",
    "      return True\n",
    "  return False\n",
    "```\n",
    "\n",
    "3. What would be the big-O above if `A` was length `n` and `B` was length `m`?\n",
    "\n",
    "4. What is the big-O of the following algorithm? Assume `A` and `B` are arrays of numbers of the **same length n**\n",
    "\n",
    "```python\n",
    "def number_in_two_arrays(A, B, num):\n",
    "  arr_len = len(A)\n",
    "  for i in range(arr_len):\n",
    "    for j in range(arr_len):\n",
    "    if A[i] == B[j]:\n",
    "      return True\n",
    "  return False\n",
    "```"
   ]
  },
  {
   "cell_type": "code",
   "execution_count": 3,
   "metadata": {},
   "outputs": [
    {
     "data": {
      "text/plain": [
       "'1: O(N)\\n2: where for i an integer:\\n    O(i) where A[i] = num is true, \\n    or O(N + j) where B[j] = num is true\\n    otherwise O(2N)\\n2: where for i an integer:\\n    O(i) where A[i] = num is true, \\n    or O(N + j) where B[j] = num is true\\n    otherwise O(N + M)\\n    '"
      ]
     },
     "execution_count": 3,
     "metadata": {},
     "output_type": "execute_result"
    }
   ],
   "source": [
    "\"\"\"\n",
    "1: O(N)\n",
    "2: where for i an integer:\n",
    "    O(i) where A[i] = num is true, \n",
    "    or O(N + j) where B[j] = num is true\n",
    "    otherwise O(2N)\n",
    "    \n",
    "    \n",
    "3: where for i an integer:\n",
    "    O(i) where A[i] = num is true, \n",
    "    or O(N + j) where B[j] = num is true\n",
    "    otherwise O(N + M)\n",
    "    \n",
    "    \n",
    "3: where for i an integer:\n",
    "    O(i) where A[i] = num is true, \n",
    "    or O(N + j) where B[j] = num is true\n",
    "    otherwise O(N + M)\n",
    "    \n",
    "    \n",
    "4: where for i and j are positive integers:\n",
    "    O(i ^ j) where A[i] = B[j] is true, \n",
    "    otherwise O(n^2)\n",
    "    \"\"\""
   ]
  },
  {
   "cell_type": "markdown",
   "metadata": {
    "colab_type": "text",
    "id": "4lz1Ha-E_CQ1"
   },
   "source": [
    "# Reverse Sort\n",
    "\n",
    "Rewrite `selection_sort` so that it sorts in **reverse order** instead (biggest element first, smallest last)"
   ]
  },
  {
   "cell_type": "code",
   "execution_count": 7,
   "metadata": {},
   "outputs": [
    {
     "data": {
      "text/plain": [
       "[777, 111, 66.6, 44.4, 22, 5, 4, 3]"
      ]
     },
     "execution_count": 7,
     "metadata": {},
     "output_type": "execute_result"
    }
   ],
   "source": [
    "\"\"\"\n",
    "Copied from notes..\n",
    "We basically start with -infinity\n",
    "and swap out the if statement in linear-search\n",
    "\"\"\"\n",
    "\n",
    "\n",
    "\n",
    "def linear_search(arr):\n",
    "  \"\"\"\n",
    "  Find the index of the minimum element\n",
    "  AKA argsort\n",
    "  \"\"\"\n",
    "  # initialize current best to +infinity\n",
    "  # So any element beats it\n",
    "  current_max = -float('inf')\n",
    "  current_max_idx = 0\n",
    "  for i in range(len(arr)):\n",
    "    if arr[i] > current_max:\n",
    "      current_max = arr[i]\n",
    "      current_max_idx = i\n",
    "  return current_max_idx\n",
    "\n",
    "\n",
    "def selection_sort(arr):\n",
    "  \"\"\"Selection sort\"\"\"\n",
    "  n_sorted = 0\n",
    "  while n_sorted < len(arr):\n",
    "    # Get the index of the min of remaining elements\n",
    "    # Since argsort returns based on array, we correct result\n",
    "    # with `+ n_sorted`\n",
    "    min_idx = linear_search(arr[n_sorted:]) + n_sorted\n",
    "    # Swap minimum element with leftmost remaining element\n",
    "    to_swap = arr[n_sorted]\n",
    "    arr[n_sorted] = arr[min_idx]\n",
    "    arr[min_idx] = to_swap\n",
    "    # Increment and restart\n",
    "    n_sorted += 1\n",
    "\n",
    "arr = [111,4,3,22,5,44.4,66.6,777]\n",
    "selection_sort(arr)\n",
    "arr\n"
   ]
  },
  {
   "cell_type": "markdown",
   "metadata": {
    "colab": {},
    "colab_type": "code",
    "id": "kLzOQr8tAAIG"
   },
   "source": [
    "# Two sum (Brute Force)\n",
    "\n",
    "Two sum. Given an array and a number N, return True if there are numbers A, B in the array such that A + B = N. Otherwise, return False.\n",
    "\n",
    "```\n",
    "two_sum([1, 2, 3, 4], 5) ⇒ True\n",
    "two_sum([3, 4, 6], 6) ⇒ False\n",
    "```\n",
    "\n",
    "Write a brute force $O(n^2)$ algorithm"
   ]
  },
  {
   "cell_type": "code",
   "execution_count": 14,
   "metadata": {},
   "outputs": [
    {
     "name": "stdout",
     "output_type": "stream",
     "text": [
      "1 4\n",
      "True\n",
      "False\n"
     ]
    }
   ],
   "source": [
    "def two_sum_brute(arr, value):\n",
    "    for i in range(len(arr)):\n",
    "        for j in range(i + 1, len(arr)):\n",
    "            if arr[i] + arr[j] == value: return True\n",
    "    return False\n",
    "\n",
    "print(two_sum_brute([1, 2, 3, 4], 5))\n",
    "print(two_sum_brute([3, 4, 6], 6))"
   ]
  },
  {
   "cell_type": "markdown",
   "metadata": {},
   "source": [
    "# Two Sum (Fast Version)\n",
    "\n",
    "Write a linear time version $O(N)$ for the two sum problem"
   ]
  },
  {
   "cell_type": "code",
   "execution_count": 25,
   "metadata": {},
   "outputs": [
    {
     "name": "stdout",
     "output_type": "stream",
     "text": [
      "True\n",
      "False\n"
     ]
    }
   ],
   "source": [
    "def two_sum_n(arr, value):\n",
    "    values = {}\n",
    "#     Using a hash table allows us to use O(1) later on\n",
    "    for i in range(len(arr)):\n",
    "        values[arr[i]] = i\n",
    "    \"\"\"\n",
    "    Not iterating over each combination in \n",
    "    nested for-loops allows us to avoid N to the power.\"\"\"\n",
    "    for i in range(len(arr)):\n",
    "        diff = value - arr[i]\n",
    "        \"\"\"\n",
    "        We check if the value of the difference exists in the array\n",
    "        and\n",
    "        we make sure we're not counting the current element to make sure\n",
    "        A and B are distinct in A + B = value\n",
    "        \"\"\"\n",
    "        if diff in values and i != values[diff]: return True\n",
    "    return False\n",
    "\n",
    "\"\"\"\n",
    "Practical Time Complexity is actualy:\n",
    "\n",
    "O(2N)\n",
    "\n",
    "However, over N => +inf\n",
    "\n",
    "2N ~ N\n",
    "\n",
    "Which means this function has Time Complexity of O(N)\n",
    "\n",
    "\"\"\"\n",
    "print(two_sum_n([1, 2, 3, 4], 5))\n",
    "print(two_sum_n([3, 4, 6], 6))"
   ]
  },
  {
   "cell_type": "markdown",
   "metadata": {},
   "source": [
    "# Two Sum (itertools version)\n",
    "\n",
    "Use `itertools.combinations` to write a $O(N)$ algorithm for two sum"
   ]
  },
  {
   "cell_type": "code",
   "execution_count": 35,
   "metadata": {},
   "outputs": [
    {
     "name": "stdout",
     "output_type": "stream",
     "text": [
      "True\n",
      "False\n"
     ]
    }
   ],
   "source": [
    "from itertools import combinations \n",
    "\n",
    "def two_sum_iter_comb(arr, value):\n",
    "    \"\"\"\n",
    "    We'll use a list cast to a set to remove any duplicate\n",
    "    combinations, O(N)\n",
    "    \"\"\"\n",
    "    combis = set(list(combinations(arr, 2)))\n",
    "    \n",
    "    \"\"\"\n",
    "    We'll iterate over each key, O(N), and check the sum of\n",
    "    the values of the tuples\n",
    "    \"\"\"\n",
    "    for (a, b) in combis:\n",
    "        if a + b == value: return True\n",
    "    \n",
    "    return False\n",
    "\n",
    "\n",
    "\"\"\"\n",
    "Practical Time Complexity is actualy:\n",
    "\n",
    "O(2N)\n",
    "\n",
    "However, over N => +inf\n",
    "\n",
    "2N ~ N\n",
    "\n",
    "Which means this function has Time Complexity of O(N)\n",
    "\n",
    "\"\"\"\n",
    "\n",
    "print(two_sum_iter_comb([1, 2, 3, 4], 5))\n",
    "print(two_sum_iter_comb([3, 4, 6], 6))"
   ]
  },
  {
   "cell_type": "markdown",
   "metadata": {},
   "source": [
    "# Linked Lists\n",
    "\n",
    "Unlike a regular array, a [Linked List](https://en.wikipedia.org/wiki/Linked_list) is a container where inserting a new element somewhere in the middle is $O(1)$. \n",
    "\n",
    "For a regular array inserting an element in the middle is $O(N)$, because we need to \"shift back\" all the elements after it. In practice, we might also have to allocate new memory to fit in the element.\n",
    "\n",
    "A linked list is a series of elements, `Node(value, next)` which work as follows:\n",
    "\n",
    "- The `value` field is the element value -- python object at that place in the list (like elements in a python `list`)\n",
    "\n",
    "- The `next` field points to the next element in the linked list. In python holding a reference to the element does this (the same way a python list holds references to objects)\n",
    "\n",
    "### Exercise\n",
    "\n",
    "Implement the `Node` Class as described above then initialize a list with 5 elements `(3 -> 'cat' -> 'dog' -> 55 -> 56)`"
   ]
  },
  {
   "cell_type": "code",
   "execution_count": 53,
   "metadata": {},
   "outputs": [
    {
     "name": "stdout",
     "output_type": "stream",
     "text": [
      "Instantiating with a pointer-based linked list \n",
      "\n",
      "\n",
      "\n",
      "56 -> 55 -> dog -> cat -> 3 -> \n",
      "Checking Value At  2\n",
      "dog\n",
      "Checking Value At  3\n",
      "cat\n",
      "Adding apple at index 0\n",
      "None\n",
      "apple -> 56 -> 55 -> dog -> cat -> 3 -> \n"
     ]
    }
   ],
   "source": [
    "class Node:\n",
    "    \n",
    "    value = None\n",
    "    \n",
    "    next_v = None\n",
    "    \n",
    "    def __init__(self, value, next_v=None):\n",
    "        self.value = value\n",
    "        self.next_v = next_v\n",
    "\n",
    "    \"\"\"\n",
    "    We use a recursive method to reach a certain point of the list,\n",
    "    to then return to the value at that index\n",
    "    \"\"\"\n",
    "    def value_at(self, at, current):\n",
    "        if at == current: return self.value\n",
    "        return self.next_v.value_at(at, current + 1)\n",
    "    \n",
    "    \"\"\"\n",
    "    We use a recursive method to traverse the list until\n",
    "    a certain index, to then return the node at that index\n",
    "    \"\"\"\n",
    "    def fetch(self, at, current):\n",
    "        if at == current: return self\n",
    "        return self.next_v.fetch(at, current + 1)\n",
    "        \n",
    "    \n",
    "    def __repr__(self):\n",
    "        return str(self.value)\n",
    "    \n",
    "    def __st__(self):\n",
    "        return str(self.value)\n",
    "\n",
    "    \n",
    "class IndexOutOfRange(Exception):\n",
    "    pass\n",
    "    \n",
    "class LinkedList:\n",
    "    \n",
    "    length = 0\n",
    "    \n",
    "    head = None\n",
    "    \n",
    "    tail = None\n",
    "    \n",
    "    def __init__(self, nodes):\n",
    "        for i in range(len(nodes)): \n",
    "            self.append(nodes[i])\n",
    "\n",
    "    def append(self, value):\n",
    "        node = Node(value)\n",
    "        node.next_v = self.head\n",
    "        self.head = node\n",
    "        self.length += 1\n",
    "    \n",
    "    def reverse_ll(self):\n",
    "        current = self.head\n",
    "        previous = None\n",
    "        while current != None:\n",
    "            next_node = current.next_v\n",
    "            current.next_v = previous\n",
    "            previous = current\n",
    "            current = next_node\n",
    "        self.head = previous\n",
    "\n",
    "    def printList(self):\n",
    "        st = \"\"\n",
    "        temp = self.head\n",
    "        while temp:\n",
    "            st += \"{v} -> \".format(v=temp.value)\n",
    "            temp = temp.next_v\n",
    "        print(st)\n",
    "            \n",
    "    \"\"\"\n",
    "    This method adds the element at a given index with O(i)\n",
    "    \"\"\"\n",
    "    def insert_at(self, value, index):\n",
    "        if index > self.length: raise IndexOutOfRange\n",
    "        current = self.head\n",
    "        counter = 0\n",
    "        if index > 0:\n",
    "            while counter < index - 1:\n",
    "                counter += 1\n",
    "                current = current.next_v\n",
    "            current.next_v = new_node\n",
    "        else:\n",
    "            new_node = Node(value, current)\n",
    "            self.head = new_node\n",
    "        self.length += 1\n",
    "    \n",
    "    \"\"\"\n",
    "    See note on value_at method in Node class\n",
    "    \"\"\"\n",
    "    def value_at(self, index):\n",
    "        if index >= self.length: raise IndexOutOfRange\n",
    "        else: return self.head.value_at(index, 0)\n",
    "\n",
    "\n",
    "\n",
    "\"\"\"\n",
    "Time Complexity\n",
    "\n",
    "\n",
    "Since a single-Linked List is a one-way sequential list from the head of the list to any position k,\n",
    "where 0 <= k <= N: \"Inserting\" at k will have TC of O(k).\n",
    "\n",
    "Insertion with O(1) (where k = 1), is only possible at the head or tail of the list due to the nature\n",
    "of a single-linked-list implemented with pointers which relies on transversal operations.\n",
    "\n",
    "In essence, either types of list offer a similar time complexity since they all require partial iteration for insertion:\n",
    "\n",
    "- pointer-based single-linked: always starts from the head, until k is reached = O(k)\n",
    "- dict based: always starts from k, but iteration over indexes i where i >= k is necessary\n",
    "    so as to keep all elements indexed properly\n",
    "\n",
    "\n",
    "\"\"\"\n",
    "\n",
    "\n",
    "\"\"\"\n",
    "You can change this index here..\n",
    "\"\"\"\n",
    "index_to_remove = 2\n",
    "value_to_add = \"apple\"\n",
    "insert_index = 0\n",
    "\"\"\"\n",
    "######\n",
    "\"\"\"\n",
    "\n",
    "print(\"Instantiating with a pointer-based linked list \")\n",
    "print(\"\\n\\n\")\n",
    "l = LinkedList([3, 'cat', 'dog', 55, 56])\n",
    "l.printList()\n",
    "print(\"Checking Value At \", index_to_remove)\n",
    "print(l.value_at(index_to_remove))\n",
    "print(\"Checking Value At \", index_to_remove + 1)\n",
    "print(l.value_at(index_to_remove + 1))\n",
    "print(\"Adding\", value_to_add, \"at index\", insert_index)\n",
    "print(l.insert_at(value_to_add, insert_index))\n",
    "l.printList()"
   ]
  },
  {
   "cell_type": "markdown",
   "metadata": {},
   "source": [
    "# Reversing a linked list\n",
    "\n",
    "Write a $O(N)$ function `reverse_ll` that reverses all the pointers in a linked list:\n",
    "\n",
    "```\n",
    "(a -> b -> c) ⇒ (c -> b -> a)\n",
    "```\n",
    "\n",
    "Note: You don't have to reverse their order in the python tuple/list if that's where you're holding them. Just reverse their `Node` pointers to each other"
   ]
  },
  {
   "cell_type": "code",
   "execution_count": 54,
   "metadata": {},
   "outputs": [
    {
     "name": "stdout",
     "output_type": "stream",
     "text": [
      "56 -> 55 -> dog -> cat -> 3 -> \n",
      "Reversing the list\n",
      "3 -> cat -> dog -> 55 -> 56 -> \n"
     ]
    }
   ],
   "source": [
    "\n",
    "\"\"\"\n",
    "Takes in a linked list and returns it's flipped counter-part\n",
    "\"\"\"\n",
    "\n",
    "\n",
    "l = LinkedList([3, 'cat', 'dog', 55, 56])\n",
    "l.printList()\n",
    "print(\"Reversing the list\")\n",
    "l.reverse_ll()\n",
    "l.printList()"
   ]
  },
  {
   "cell_type": "code",
   "execution_count": null,
   "metadata": {},
   "outputs": [],
   "source": []
  }
 ],
 "metadata": {
  "colab": {
   "authorship_tag": "ABX9TyOATH9BoLFARMvG0o+Vj9NT",
   "collapsed_sections": [],
   "name": "Algorithms 1 Workshop.ipynb",
   "provenance": []
  },
  "kernelspec": {
   "display_name": "Python 3",
   "language": "python",
   "name": "python3"
  },
  "language_info": {
   "codemirror_mode": {
    "name": "ipython",
    "version": 3
   },
   "file_extension": ".py",
   "mimetype": "text/x-python",
   "name": "python",
   "nbconvert_exporter": "python",
   "pygments_lexer": "ipython3",
   "version": "3.8.5"
  }
 },
 "nbformat": 4,
 "nbformat_minor": 1
}
